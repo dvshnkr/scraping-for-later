{
 "cells": [
  {
   "cell_type": "code",
   "execution_count": 1,
   "id": "5e004f91",
   "metadata": {},
   "outputs": [],
   "source": [
    "import requests\n",
    "from bs4 import BeautifulSoup\n"
   ]
  },
  {
   "cell_type": "markdown",
   "id": "117a0991",
   "metadata": {},
   "source": [
    "Picked 'user-agent' for my browser from https://www.whatismybrowser.com/detect/what-is-my-user-agent/\n",
    "\n"
   ]
  },
  {
   "cell_type": "code",
   "execution_count": 2,
   "id": "b2a83099",
   "metadata": {},
   "outputs": [],
   "source": [
    "url = \"https://patient.info/forums/discuss/browse/depression-683\"\n",
    "headers = {\n",
    "    'User-Agent': 'Mozilla/5.0 (Windows NT 10.0; Win64; x64) AppleWebKit/537.36 (KHTML, like Gecko) Chrome/106.0.0.0 Safari/537.36'\n",
    "    #Switch the User-agent to avoid anti-scraping measures and \"make believe\" this is a real human requests those URLs\n",
    "}\n",
    "\n",
    "response = requests.get(url, headers=headers)\n",
    "soup = BeautifulSoup(response.content, 'html.parser')\n",
    "\n",
    "# print(soup)"
   ]
  },
  {
   "cell_type": "code",
   "execution_count": 5,
   "id": "6dbc8e25",
   "metadata": {},
   "outputs": [],
   "source": [
    "from lxml import etree"
   ]
  },
  {
   "cell_type": "code",
   "execution_count": 26,
   "id": "04820759",
   "metadata": {},
   "outputs": [
    {
     "name": "stdout",
     "output_type": "stream",
     "text": [
      "https://patient.info/forums/discuss/parox-791813\n",
      "https://patient.info/forums/discuss/depression-or-something-more-complex--791524\n",
      "https://patient.info/forums/discuss/effexor-withdrawal-how-long-will-these-feelings-last--488147\n",
      "https://patient.info/forums/discuss/asking-for-the-other-half--791541\n",
      "https://patient.info/forums/discuss/rapid-weight-gain-after-stopping-venlafaxine-564278\n",
      "https://patient.info/forums/discuss/ashamed-in-40s-790546\n",
      "https://patient.info/forums/discuss/coming-off-pristiq-and-amitriptyline-at-the-same-time-790968\n",
      "https://patient.info/forums/discuss/i-have-two-sides-790905\n",
      "https://patient.info/forums/discuss/suicide-attempt-missed-790609\n",
      "https://patient.info/forums/discuss/cut-off-left-adrift-feel-dejected-790638\n",
      "https://patient.info/forums/discuss/i-wish-i-was-dead-tired-of-living--499345\n",
      "https://patient.info/forums/discuss/severely-depressed-no-drive-anymore-784720\n",
      "https://patient.info/forums/discuss/always-negative-thoughts-and-hypochondria-787936\n",
      "https://patient.info/forums/discuss/so-sick-and-tired-of-living-786001\n",
      "https://patient.info/forums/discuss/i-am-helplessn-787039\n",
      "https://patient.info/forums/discuss/confused-pls-help-me-787321\n",
      "https://patient.info/forums/discuss/i-feel-powerless-781491\n",
      "https://patient.info/forums/discuss/hair-pulling-but-left-a-bald-patch-depression-sign--788237\n",
      "https://patient.info/forums/discuss/i-feel-like-i-can-t-handle-this-788518\n",
      "https://patient.info/forums/discuss/i-messed-up-and-now-everything-is-falling-apart--788411\n",
      "https://patient.info/forums/discuss/living-is-suffering-788944\n",
      "https://patient.info/forums/discuss/mr-788339\n",
      "https://patient.info/forums/discuss/depressed-whole-life-feel-suffering-789261\n",
      "https://patient.info/forums/discuss/diagnosis-query-790104\n",
      "https://patient.info/forums/discuss/i-wanna-die-because-i-m-stupid-621724\n",
      "https://patient.info/forums/discuss/self-harm-and-occasional-pain-intolerance--790284\n",
      "https://patient.info/forums/discuss/unusual-medication-withdrawal-question-788581\n",
      "https://patient.info/forums/discuss/fed-up-of-strougling-790237\n",
      "https://patient.info/forums/discuss/antidepressants-and-migraines-side-effects-427051\n",
      "https://patient.info/forums/discuss/suddenly-losing-love-for-my-girlfriend-is-this-because-of-anxiety--766025\n",
      "https://patient.info/forums/discuss/ketamine-looks-super-promising-789362\n",
      "https://patient.info/forums/discuss/b-p-d-and-too-many-meds--788885\n",
      "https://patient.info/forums/discuss/my-skin-peeling-and-very-dry-after-withdrawal-of-antudepressant-788872\n"
     ]
    }
   ],
   "source": [
    "dom = etree.HTML(str(soup))\n",
    "\n",
    "for j in range(1, 37):\n",
    "    try:\n",
    "        print('https://patient.info'+dom.xpath(f'/html/body/div/div/div[2]/div[1]/div/div/div/div[1]/div/ul/li[{j}]/div/div[2]/article/h3/a/@href')[0])\n",
    "    except:\n",
    "        continue"
   ]
  },
  {
   "cell_type": "code",
   "execution_count": 27,
   "id": "1835a961",
   "metadata": {},
   "outputs": [
    {
     "data": {
      "text/plain": [
       "6534"
      ]
     },
     "execution_count": 27,
     "metadata": {},
     "output_type": "execute_result"
    }
   ],
   "source": [
    "####        PSEUDO-CODE       #####\n",
    "### LOOP THROUGH EACH PAGE FROM 1 TO 198 starting with : \n",
    "### https://patient.info/forums/discuss/browse/depression-683?page=0#group-discussions LOOP AROUND PAGE = 0 \n",
    "### then PAGE = 1 then PAGE = 2...up to 197\n",
    "\n",
    "post_urls = []\n",
    "\n",
    "for i in range(198):\n",
    "    page_url = f\"https://patient.info/forums/discuss/browse/depression-683?page={i}#group-discussions\"\n",
    "    \n",
    "    response = requests.get(url, headers=headers)\n",
    "    soup = BeautifulSoup(response.content, 'html.parser')\n",
    "    \n",
    "    for j in range(1, 37):\n",
    "        XPATH = f\"/html/body/div/div/div[2]/div[1]/div/div/div/div[1]/div/ul/li[{j}]/div/div[2]/article/h3/a/@href\"\n",
    "        \n",
    "        dom = etree.HTML(str(soup))\n",
    "        \n",
    "        try:\n",
    "            post_url = 'https://patient.info' + dom.xpath(XPATH)[0]\n",
    "        except:\n",
    "            continue\n",
    "        \n",
    "        post_urls.append(post_url)\n",
    "\n",
    "### FOR EACH TOPIC NAME (use XPATH) GRAB URL AND APPEND TO A LIST\n",
    "\n",
    "### THEN LOOP THROUGH EVERY URL IN LIST, REQUEST URL, AND SCRAP MAIN POST'S TEXT\n",
    "\n",
    "len(post_urls)"
   ]
  },
  {
   "cell_type": "code",
   "execution_count": 32,
   "id": "57138ea7",
   "metadata": {},
   "outputs": [
    {
     "data": {
      "text/plain": [
       "['https://patient.info/forums/discuss/parox-791813',\n",
       " 'https://patient.info/forums/discuss/depression-or-something-more-complex--791524',\n",
       " 'https://patient.info/forums/discuss/effexor-withdrawal-how-long-will-these-feelings-last--488147',\n",
       " 'https://patient.info/forums/discuss/asking-for-the-other-half--791541',\n",
       " 'https://patient.info/forums/discuss/rapid-weight-gain-after-stopping-venlafaxine-564278']"
      ]
     },
     "execution_count": 32,
     "metadata": {},
     "output_type": "execute_result"
    }
   ],
   "source": [
    "post_urls[:5]"
   ]
  },
  {
   "cell_type": "code",
   "execution_count": 34,
   "id": "9f501265",
   "metadata": {},
   "outputs": [],
   "source": [
    "with open('./post_urls.txt', 'w') as f:\n",
    "    f.write('\\n'.join(post_urls))\n"
   ]
  },
  {
   "cell_type": "code",
   "execution_count": null,
   "id": "63679ad3",
   "metadata": {},
   "outputs": [],
   "source": []
  }
 ],
 "metadata": {
  "kernelspec": {
   "display_name": "Python 3 (ipykernel)",
   "language": "python",
   "name": "python3"
  },
  "language_info": {
   "codemirror_mode": {
    "name": "ipython",
    "version": 3
   },
   "file_extension": ".py",
   "mimetype": "text/x-python",
   "name": "python",
   "nbconvert_exporter": "python",
   "pygments_lexer": "ipython3",
   "version": "3.9.7"
  }
 },
 "nbformat": 4,
 "nbformat_minor": 5
}
